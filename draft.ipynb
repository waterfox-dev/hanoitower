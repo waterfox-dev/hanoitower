{
 "cells": [
  {
   "cell_type": "code",
   "execution_count": 5,
   "metadata": {},
   "outputs": [],
   "source": [
    "def initialisation(number_of_disk : int):\n",
    "    tower_dict    = {}\n",
    "    tower_dict[0] = [[], [], []]\n",
    "    for i in range(3):\n",
    "        for j in range(0,number_of_disk) :\n",
    "            if i == 0  : #On traite le premier piquet\n",
    "                string = str((number_of_disk - j) * \"-\" )+ ((number_of_disk - j) * \"-\")\n",
    "                tower_dict[0][0].insert(0, string)\n",
    "            else : #On traite les autres piquets qui sont vides\n",
    "                tower_dict[0][i].append('x')\n",
    "    return tower_dict"
   ]
  },
  {
   "cell_type": "code",
   "execution_count": 6,
   "metadata": {},
   "outputs": [],
   "source": [
    "def last_elt(piquet : list, caractere = 'x'):\n",
    "    for i in range(1, len(piquet)):\n",
    "        if piquet[-i] == caractere:\n",
    "            return -i\n",
    "    if piquet[0] == caractere : #On traite le premier élement du piquet\n",
    "        return 0"
   ]
  },
  {
   "cell_type": "code",
   "execution_count": 44,
   "metadata": {},
   "outputs": [],
   "source": [
    "def deplacer(disque : int, origine : int, destination : int):\n",
    "    if origine not in [1,2,3] and destination not in [1,2,3]: #Vérificaiton de l'existence de la tour\n",
    "        raise IndexError(\"This tower don't exist\")\n",
    "    else :\n",
    "        last_config                                    = list(dico_coups.keys())[-1]\n",
    "        disk                                           = dico_coups[last_config][origine][disque]\n",
    "        dico_coups[last_config][origine][disque]       = 'x'\n",
    "        position                                       = last_elt(dico_coups[last_config][destination])\n",
    "        dico_coups[last_config][destination][position] = disk"
   ]
  },
  {
   "cell_type": "code",
   "execution_count": 45,
   "metadata": {},
   "outputs": [
    {
     "name": "stdout",
     "output_type": "stream",
     "text": [
      "{0: [['--', '----', '------'], ['x', 'x', 'x'], ['x', 'x', 'x']]}\n",
      "{0: [['x', 'x', '------'], ['x', 'x', '----'], ['x', 'x', '--']]}\n"
     ]
    }
   ],
   "source": []
  }
 ],
 "metadata": {
  "interpreter": {
   "hash": "27f1aa64630c54bb913cc6243e130d29f70b453b256feeafda74e1bc57199250"
  },
  "kernelspec": {
   "display_name": "Python 3.9.6 64-bit",
   "name": "python3"
  },
  "language_info": {
   "codemirror_mode": {
    "name": "ipython",
    "version": 3
   },
   "file_extension": ".py",
   "mimetype": "text/x-python",
   "name": "python",
   "nbconvert_exporter": "python",
   "pygments_lexer": "ipython3",
   "version": "3.9.6"
  },
  "orig_nbformat": 4
 },
 "nbformat": 4,
 "nbformat_minor": 2
}
