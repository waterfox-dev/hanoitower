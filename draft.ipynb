{
 "cells": [
  {
   "cell_type": "code",
   "execution_count": null,
   "metadata": {},
   "outputs": [],
   "source": [
    "#Global variables \n",
    "nb_round = 0\n",
    "win_config = 0\n",
    "win_state = False"
   ]
  },
  {
   "cell_type": "markdown",
   "metadata": {},
   "source": [
    "# Fonction du programme"
   ]
  },
  {
   "cell_type": "code",
   "execution_count": 1,
   "metadata": {},
   "outputs": [],
   "source": [
    "def initialisation(number_of_disk : int):\n",
    "    tower_dict    = {}\n",
    "    tower_dict[0] = [[], [], []]\n",
    "    for i in range(3):\n",
    "        for j in range(0,number_of_disk) :\n",
    "            if i == 0  : #On traite le premier piquet\n",
    "                string = str((number_of_disk - j) * \"-\" )+ ((number_of_disk - j) * \"-\")\n",
    "                tower_dict[0][0].insert(0, string)\n",
    "            else : #On traite les autres piquets qui sont vides\n",
    "                tower_dict[0][i].append('x')\n",
    "    return tower_dict"
   ]
  },
  {
   "cell_type": "code",
   "execution_count": 3,
   "metadata": {},
   "outputs": [],
   "source": [
    "def last_elt(piquet : list, caractere : str = 'x'):\n",
    "    for i in range(1, len(piquet)):\n",
    "        if piquet[-i] == caractere:\n",
    "            return -i\n",
    "    if piquet[0] == caractere : #On traite le premier élement du piquet\n",
    "        return 0"
   ]
  },
  {
   "cell_type": "code",
   "execution_count": 4,
   "metadata": {},
   "outputs": [],
   "source": [
    "def first_disk(piquet : list, piquet_symbol : str = '-'):\n",
    "    for i in range(len(piquet)):\n",
    "        if piquet_symbol in piquet[i] :\n",
    "            return i"
   ]
  },
  {
   "cell_type": "code",
   "execution_count": 11,
   "metadata": {},
   "outputs": [],
   "source": [
    "def get_last_config(data : dict, actual_round : int):\n",
    "    if list(data.keys()) == [0]:\n",
    "        return data[0].copy()\n",
    "    else :\n",
    "        return data[actual_round - 1].copy()"
   ]
  },
  {
   "cell_type": "code",
   "execution_count": 20,
   "metadata": {},
   "outputs": [],
   "source": [
    "def insert_config(data : dict, new_config : list, new_config_round : int):\n",
    "    data[new_config_round] = new_config\n",
    "    return data"
   ]
  },
  {
   "cell_type": "markdown",
   "metadata": {},
   "source": [
    "# Assertions"
   ]
  },
  {
   "cell_type": "code",
   "execution_count": 22,
   "metadata": {},
   "outputs": [
    {
     "name": "stdout",
     "output_type": "stream",
     "text": [
      "{0: [['--', '----', '------'], ['x', 'x', 'x'], ['x', 'x', 'x']]}\n"
     ]
    }
   ],
   "source": [
    "test_1 = initialisation(3)\n",
    "print(test_1)"
   ]
  },
  {
   "cell_type": "code",
   "execution_count": 23,
   "metadata": {},
   "outputs": [
    {
     "name": "stdout",
     "output_type": "stream",
     "text": [
      "[['--', '----', '------'], ['x', 'x', 'x'], ['x', 'x', 'x']]\n",
      "{0: [['--', '----', '------'], ['x', 'x', 'x'], ['x', 'x', 'x']], 1: [['', '----', '------'], ['x', 'x', '--'], ['x', 'x', 'x']]}\n"
     ]
    }
   ],
   "source": [
    "temp = [['', '----', '------'], ['x', 'x', '--'], ['x', 'x', 'x']]\n",
    "print(get_last_config(test_1, 0))\n",
    "print(insert_config(test_1, temp, 1))"
   ]
  }
 ],
 "metadata": {
  "interpreter": {
   "hash": "27f1aa64630c54bb913cc6243e130d29f70b453b256feeafda74e1bc57199250"
  },
  "kernelspec": {
   "display_name": "Python 3.9.6 64-bit",
   "name": "python3"
  },
  "language_info": {
   "codemirror_mode": {
    "name": "ipython",
    "version": 3
   },
   "file_extension": ".py",
   "mimetype": "text/x-python",
   "name": "python",
   "nbconvert_exporter": "python",
   "pygments_lexer": "ipython3",
   "version": "3.9.6"
  },
  "orig_nbformat": 4
 },
 "nbformat": 4,
 "nbformat_minor": 2
}
