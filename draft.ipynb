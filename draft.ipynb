{
 "cells": [
  {
   "cell_type": "code",
   "execution_count": 22,
   "metadata": {},
   "outputs": [],
   "source": [
    "def initialisation() :\n",
    "    return {\n",
    "        0: [['--', '----', '------'], ['x', 'x', 'x'], ['x', 'x', 'x']]\n",
    "    }\n"
   ]
  },
  {
   "cell_type": "code",
   "execution_count": 23,
   "metadata": {},
   "outputs": [
    {
     "name": "stdout",
     "output_type": "stream",
     "text": [
      "{0: [['--', '----', '------'], ['x', 'x', 'x'], ['x', 'x', 'x']]}\n"
     ]
    }
   ],
   "source": [
    "dico_coups = initialisation()\n",
    "print(dico_coups)"
   ]
  },
  {
   "cell_type": "code",
   "execution_count": 24,
   "metadata": {},
   "outputs": [],
   "source": [
    "def last_elt(liste : list, caractere : str):\n",
    "    for i in range(1, len(liste)):\n",
    "        if liste[-i] == caractere :\n",
    "            return -i"
   ]
  },
  {
   "cell_type": "code",
   "execution_count": 25,
   "metadata": {},
   "outputs": [
    {
     "name": "stdout",
     "output_type": "stream",
     "text": [
      "-1\n"
     ]
    }
   ],
   "source": [
    "print(last_elt(dico_coups[0][1], 'x'))"
   ]
  },
  {
   "cell_type": "code",
   "execution_count": null,
   "metadata": {},
   "outputs": [],
   "source": [
    "def hanoi(n, i = 1, j = 2, k = 3):\n",
    "    if n == 1:\n",
    "        return\n",
    "    else :\n",
    "        hanoi(n-1, i, k, j)\n",
    "        print(f\"Déplacer le disque {n} de la tige {i} to  {j}\")\n",
    "        hanoi(n-1, k, j, i)\n"
   ]
  }
 ],
 "metadata": {
  "interpreter": {
   "hash": "27f1aa64630c54bb913cc6243e130d29f70b453b256feeafda74e1bc57199250"
  },
  "kernelspec": {
   "display_name": "Python 3.9.6 64-bit",
   "name": "python3"
  },
  "language_info": {
   "codemirror_mode": {
    "name": "ipython",
    "version": 3
   },
   "file_extension": ".py",
   "mimetype": "text/x-python",
   "name": "python",
   "nbconvert_exporter": "python",
   "pygments_lexer": "ipython3",
   "version": "3.9.6"
  },
  "orig_nbformat": 4
 },
 "nbformat": 4,
 "nbformat_minor": 2
}
